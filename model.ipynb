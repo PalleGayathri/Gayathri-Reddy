{
  "nbformat": 4,
  "nbformat_minor": 0,
  "metadata": {
    "colab": {
      "provenance": [],
      "authorship_tag": "ABX9TyOnW4/3Nypn6sN+EaU09QBx",
      "include_colab_link": true
    },
    "kernelspec": {
      "name": "python3",
      "display_name": "Python 3"
    },
    "language_info": {
      "name": "python"
    }
  },
  "cells": [
    {
      "cell_type": "markdown",
      "metadata": {
        "id": "view-in-github",
        "colab_type": "text"
      },
      "source": [
        "<a href=\"https://colab.research.google.com/github/PalleGayathri/Gayathri-Reddy/blob/main/model.ipynb\" target=\"_parent\"><img src=\"https://colab.research.google.com/assets/colab-badge.svg\" alt=\"Open In Colab\"/></a>"
      ]
    },
    {
      "cell_type": "code",
      "execution_count": 1,
      "metadata": {
        "colab": {
          "base_uri": "https://localhost:8080/"
        },
        "id": "e6LscWLyZww7",
        "outputId": "45f51385-6d62-44d8-d166-e834477dd40f"
      },
      "outputs": [
        {
          "output_type": "stream",
          "name": "stdout",
          "text": [
            "Scalar value: 5\n"
          ]
        }
      ],
      "source": [
        "import numpy as np\n",
        "scalar = np.array(5)\n",
        "print(\"Scalar value:\", scalar)"
      ]
    },
    {
      "cell_type": "code",
      "source": [
        "vector = np.array([1, 2, 3])\n",
        "print(\"Vector values:\", vector)"
      ],
      "metadata": {
        "colab": {
          "base_uri": "https://localhost:8080/"
        },
        "id": "hbta35iNacCz",
        "outputId": "0faf1d86-463f-4422-cb47-e139de6167a7"
      },
      "execution_count": 2,
      "outputs": [
        {
          "output_type": "stream",
          "name": "stdout",
          "text": [
            "Vector values: [1 2 3]\n"
          ]
        }
      ]
    },
    {
      "cell_type": "code",
      "source": [
        "import numpy as np\n",
        "scalar = np.array(5)\n",
        "print(\"Scalar value:\",scalar)\n",
        "vector = np.array([1, 2, 3])\n",
        "print(\"Vector values:\", vector)\n",
        "matrix = np.array([[1, 2, 3], [4, 5, 6]])\n",
        "print(\"2D Tensor (Matrix):\\n\", matrix)\n",
        "tensor_3d = np.array([[[1, 2, 3], [4, 5, 6]], [[7, 8, 9], [10, 11, 12]]])\n",
        "print(\"3D Tensor:\\n\", tensor_3d)\n",
        "tensor_4d = np.random.rand(2, 3, 4, 5)\n",
        "print(\"Shape of 4D Tensor:\", tensor_4d.shape)"
      ],
      "metadata": {
        "colab": {
          "base_uri": "https://localhost:8080/"
        },
        "id": "WiVMOtWgdUpz",
        "outputId": "631a91ec-a550-410b-b889-20abb796ca85"
      },
      "execution_count": 5,
      "outputs": [
        {
          "output_type": "stream",
          "name": "stdout",
          "text": [
            "Scalar value: 5\n",
            "Vector values: [1 2 3]\n",
            "2D Tensor (Matrix):\n",
            " [[1 2 3]\n",
            " [4 5 6]]\n",
            "3D Tensor:\n",
            " [[[ 1  2  3]\n",
            "  [ 4  5  6]]\n",
            "\n",
            " [[ 7  8  9]\n",
            "  [10 11 12]]]\n",
            "Shape of 4D Tensor: (2, 3, 4, 5)\n"
          ]
        }
      ]
    },
    {
      "cell_type": "code",
      "source": [
        "import numpy as np\n",
        "from tensorflow.keras.models import Sequential\n",
        "from tensorflow.keras.layers import Dense\n",
        "from sklearn.model_selection import train_test_split\n",
        "def generate_data(num_samples):\n",
        "  x1 = np.random.randint(0, 100, size=num_samples)\n",
        "  x2 = np.random.randint(0, 100, size=num_samples)\n",
        "  y = x1 + x2\n",
        "  return np.vstack((x1, x2)).T, y\n",
        "num_samples = 10000\n",
        "X, y = generate_data(num_samples)\n",
        "X_train, X_test, y_train, y_test = train_test_split(X, y, test_size=0.2, random_state=42)\n",
        "model = Sequential()\n",
        "model.add(Dense(10, input_dim=2, activation='relu'))\n",
        "model.add(Dense(5, activation='relu'))\n",
        "model.add(Dense(1))\n",
        "model.compile(optimizer='adam', loss='mean_squared_error')\n",
        "model.fit(X_train, y_train, epochs=48, batch_size=32, validation_split=0.2)\n",
        "loss = model.evaluate(X_test, y_test)\n",
        "print(f'Test Loss: {loss}')\n",
        "sample_input = np.array([[23, 45]])\n",
        "predicted_sum = model.predict(sample_input)\n",
        "print(f'Predicted Sum: {predicted_sum[0][0]}')"
      ],
      "metadata": {
        "colab": {
          "base_uri": "https://localhost:8080/"
        },
        "id": "PS-sl1x4hF17",
        "outputId": "9b94581b-76bb-455c-cc84-5af51ce18108"
      },
      "execution_count": 7,
      "outputs": [
        {
          "output_type": "stream",
          "name": "stdout",
          "text": [
            "Epoch 1/48\n",
            "200/200 [==============================] - 1s 3ms/step - loss: 4972.3608 - val_loss: 469.3689\n",
            "Epoch 2/48\n",
            "200/200 [==============================] - 0s 2ms/step - loss: 123.3578 - val_loss: 34.5835\n",
            "Epoch 3/48\n",
            "200/200 [==============================] - 0s 2ms/step - loss: 22.5128 - val_loss: 14.3999\n",
            "Epoch 4/48\n",
            "200/200 [==============================] - 0s 2ms/step - loss: 10.7380 - val_loss: 7.4479\n",
            "Epoch 5/48\n",
            "200/200 [==============================] - 0s 2ms/step - loss: 5.6264 - val_loss: 4.1098\n",
            "Epoch 6/48\n",
            "200/200 [==============================] - 0s 2ms/step - loss: 3.2902 - val_loss: 2.6444\n",
            "Epoch 7/48\n",
            "200/200 [==============================] - 0s 2ms/step - loss: 2.2224 - val_loss: 1.9338\n",
            "Epoch 8/48\n",
            "200/200 [==============================] - 0s 2ms/step - loss: 1.6432 - val_loss: 1.5165\n",
            "Epoch 9/48\n",
            "200/200 [==============================] - 0s 2ms/step - loss: 1.2964 - val_loss: 1.2385\n",
            "Epoch 10/48\n",
            "200/200 [==============================] - 0s 2ms/step - loss: 1.0371 - val_loss: 1.0027\n",
            "Epoch 11/48\n",
            "200/200 [==============================] - 0s 2ms/step - loss: 0.8335 - val_loss: 0.8087\n",
            "Epoch 12/48\n",
            "200/200 [==============================] - 1s 4ms/step - loss: 0.6768 - val_loss: 0.6532\n",
            "Epoch 13/48\n",
            "200/200 [==============================] - 1s 4ms/step - loss: 0.5560 - val_loss: 0.5297\n",
            "Epoch 14/48\n",
            "200/200 [==============================] - 1s 4ms/step - loss: 0.4523 - val_loss: 0.4204\n",
            "Epoch 15/48\n",
            "200/200 [==============================] - 1s 4ms/step - loss: 0.3577 - val_loss: 0.3313\n",
            "Epoch 16/48\n",
            "200/200 [==============================] - 1s 3ms/step - loss: 0.2799 - val_loss: 0.2499\n",
            "Epoch 17/48\n",
            "200/200 [==============================] - 1s 3ms/step - loss: 0.2140 - val_loss: 0.1855\n",
            "Epoch 18/48\n",
            "200/200 [==============================] - 0s 2ms/step - loss: 0.1622 - val_loss: 0.1409\n",
            "Epoch 19/48\n",
            "200/200 [==============================] - 1s 3ms/step - loss: 0.1256 - val_loss: 0.1091\n",
            "Epoch 20/48\n",
            "200/200 [==============================] - 0s 2ms/step - loss: 0.0988 - val_loss: 0.0858\n",
            "Epoch 21/48\n",
            "200/200 [==============================] - 1s 3ms/step - loss: 0.0773 - val_loss: 0.0681\n",
            "Epoch 22/48\n",
            "200/200 [==============================] - 0s 2ms/step - loss: 0.0609 - val_loss: 0.0527\n",
            "Epoch 23/48\n",
            "200/200 [==============================] - 1s 3ms/step - loss: 0.0480 - val_loss: 0.0415\n",
            "Epoch 24/48\n",
            "200/200 [==============================] - 0s 2ms/step - loss: 0.0380 - val_loss: 0.0317\n",
            "Epoch 25/48\n",
            "200/200 [==============================] - 0s 2ms/step - loss: 0.0300 - val_loss: 0.0253\n",
            "Epoch 26/48\n",
            "200/200 [==============================] - 0s 2ms/step - loss: 0.0234 - val_loss: 0.0194\n",
            "Epoch 27/48\n",
            "200/200 [==============================] - 1s 3ms/step - loss: 0.0183 - val_loss: 0.0156\n",
            "Epoch 28/48\n",
            "200/200 [==============================] - 0s 2ms/step - loss: 0.0145 - val_loss: 0.0124\n",
            "Epoch 29/48\n",
            "200/200 [==============================] - 0s 2ms/step - loss: 0.0118 - val_loss: 0.0107\n",
            "Epoch 30/48\n",
            "200/200 [==============================] - 0s 2ms/step - loss: 0.0096 - val_loss: 0.0085\n",
            "Epoch 31/48\n",
            "200/200 [==============================] - 0s 2ms/step - loss: 0.0080 - val_loss: 0.0078\n",
            "Epoch 32/48\n",
            "200/200 [==============================] - 0s 2ms/step - loss: 0.0067 - val_loss: 0.0063\n",
            "Epoch 33/48\n",
            "200/200 [==============================] - 0s 2ms/step - loss: 0.0057 - val_loss: 0.0055\n",
            "Epoch 34/48\n",
            "200/200 [==============================] - 0s 2ms/step - loss: 0.0050 - val_loss: 0.0049\n",
            "Epoch 35/48\n",
            "200/200 [==============================] - 0s 2ms/step - loss: 0.0042 - val_loss: 0.0041\n",
            "Epoch 36/48\n",
            "200/200 [==============================] - 0s 2ms/step - loss: 0.0037 - val_loss: 0.0036\n",
            "Epoch 37/48\n",
            "200/200 [==============================] - 1s 4ms/step - loss: 0.0031 - val_loss: 0.0031\n",
            "Epoch 38/48\n",
            "200/200 [==============================] - 1s 4ms/step - loss: 0.0027 - val_loss: 0.0027\n",
            "Epoch 39/48\n",
            "200/200 [==============================] - 1s 4ms/step - loss: 0.0022 - val_loss: 0.0023\n",
            "Epoch 40/48\n",
            "200/200 [==============================] - 1s 3ms/step - loss: 0.0019 - val_loss: 0.0018\n",
            "Epoch 41/48\n",
            "200/200 [==============================] - 1s 4ms/step - loss: 0.0016 - val_loss: 0.0016\n",
            "Epoch 42/48\n",
            "200/200 [==============================] - 1s 3ms/step - loss: 0.0014 - val_loss: 0.0014\n",
            "Epoch 43/48\n",
            "200/200 [==============================] - 0s 2ms/step - loss: 0.0011 - val_loss: 0.0011\n",
            "Epoch 44/48\n",
            "200/200 [==============================] - 0s 2ms/step - loss: 9.0046e-04 - val_loss: 8.3055e-04\n",
            "Epoch 45/48\n",
            "200/200 [==============================] - 1s 3ms/step - loss: 7.4119e-04 - val_loss: 6.6057e-04\n",
            "Epoch 46/48\n",
            "200/200 [==============================] - 1s 3ms/step - loss: 5.9234e-04 - val_loss: 6.3376e-04\n",
            "Epoch 47/48\n",
            "200/200 [==============================] - 1s 3ms/step - loss: 4.8295e-04 - val_loss: 4.3546e-04\n",
            "Epoch 48/48\n",
            "200/200 [==============================] - 1s 3ms/step - loss: 4.2481e-04 - val_loss: 3.9439e-04\n",
            "63/63 [==============================] - 0s 2ms/step - loss: 4.5614e-04\n",
            "Test Loss: 0.0004561423265840858\n",
            "1/1 [==============================] - 0s 73ms/step\n",
            "Predicted Sum: 68.0119857788086\n"
          ]
        }
      ]
    }
  ]
}