{
  "nbformat": 4,
  "nbformat_minor": 0,
  "metadata": {
    "colab": {
      "provenance": [],
      "authorship_tag": "ABX9TyNHNvv9I2CfwjOeBZk00TyD",
      "include_colab_link": true
    },
    "kernelspec": {
      "name": "python3",
      "display_name": "Python 3"
    },
    "language_info": {
      "name": "python"
    }
  },
  "cells": [
    {
      "cell_type": "markdown",
      "metadata": {
        "id": "view-in-github",
        "colab_type": "text"
      },
      "source": [
        "<a href=\"https://colab.research.google.com/github/PalleGayathri/Gayathri-Reddy/blob/main/Untitled8.ipynb\" target=\"_parent\"><img src=\"https://colab.research.google.com/assets/colab-badge.svg\" alt=\"Open In Colab\"/></a>"
      ]
    },
    {
      "cell_type": "code",
      "execution_count": null,
      "metadata": {
        "colab": {
          "base_uri": "https://localhost:8080/",
          "height": 106
        },
        "id": "la217PZ0f9gA",
        "outputId": "77bbafdf-4611-463a-8a6e-d8ad20d48b99"
      },
      "outputs": [
        {
          "output_type": "error",
          "ename": "SyntaxError",
          "evalue": "invalid syntax. Perhaps you forgot a comma? (<ipython-input-18-b4257ffa79a2>, line 10)",
          "traceback": [
            "\u001b[0;36m  File \u001b[0;32m\"<ipython-input-18-b4257ffa79a2>\"\u001b[0;36m, line \u001b[0;32m10\u001b[0m\n\u001b[0;31m    print(t\"input string:\"{input_str})\u001b[0m\n\u001b[0m           ^\u001b[0m\n\u001b[0;31mSyntaxError\u001b[0m\u001b[0;31m:\u001b[0m invalid syntax. Perhaps you forgot a comma?\n"
          ]
        }
      ],
      "source": [
        "def countsubstring(s1,s2):\n",
        "    if len(s2)<len(s1):\n",
        "      return 0\n",
        "    match=s2(len(s1))==s1\n",
        "    return match + countsubstring(s1,s2[1:])\n",
        "#example usage and output\n",
        "input.str = \"cabalapha\"\n",
        "substring_to_find:input.str = 'ab'\n",
        "result = countsubstring(substring_to_find)\n",
        "print(t\"input string:\"{input_str})\n",
        "print(t\"substring to find:\"{substring.to_find})\n",
        "print(t\"Number of occurance:{result}\")"
      ]
    }
  ]
}